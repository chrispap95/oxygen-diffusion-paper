{
 "cells": [
  {
   "cell_type": "markdown",
   "id": "373bb174",
   "metadata": {},
   "source": [
    "# Finite differences simulation of the JAERI model\n",
    "Designed to run on a CUDA-compatible GPU."
   ]
  },
  {
   "cell_type": "code",
   "execution_count": 6,
   "id": "a22460f4",
   "metadata": {},
   "outputs": [],
   "source": [
    "import itertools\n",
    "import subprocess\n",
    "import numpy as np\n",
    "import matplotlib.pyplot as plt\n",
    "import mplhep as hep"
   ]
  },
  {
   "cell_type": "code",
   "execution_count": 2,
   "id": "72877a24",
   "metadata": {},
   "outputs": [],
   "source": [
    "plt.style.use(hep.style.ROOT)"
   ]
  },
  {
   "cell_type": "markdown",
   "id": "af8e8bbf",
   "metadata": {},
   "source": [
    "## Checking the GPU and compiling the code\n",
    "Printing the GPU details, compiling the code, and checking the executable."
   ]
  },
  {
   "cell_type": "code",
   "execution_count": 4,
   "id": "fe7132b1",
   "metadata": {},
   "outputs": [
    {
     "name": "stdout",
     "output_type": "stream",
     "text": [
      "Mon Jul 17 06:44:10 2023       \n",
      "+---------------------------------------------------------------------------------------+\n",
      "| NVIDIA-SMI 530.30.02              Driver Version: 530.30.02    CUDA Version: 12.1     |\n",
      "|-----------------------------------------+----------------------+----------------------+\n",
      "| GPU  Name                  Persistence-M| Bus-Id        Disp.A | Volatile Uncorr. ECC |\n",
      "| Fan  Temp  Perf            Pwr:Usage/Cap|         Memory-Usage | GPU-Util  Compute M. |\n",
      "|                                         |                      |               MIG M. |\n",
      "|=========================================+======================+======================|\n",
      "|   0  Tesla P100-PCIE-12GB            Off| 00000000:65:00.0 Off |                    0 |\n",
      "| N/A   43C    P0               28W / 250W|      0MiB / 12288MiB |      1%      Default |\n",
      "|                                         |                      |                  N/A |\n",
      "+-----------------------------------------+----------------------+----------------------+\n",
      "                                                                                         \n",
      "+---------------------------------------------------------------------------------------+\n",
      "| Processes:                                                                            |\n",
      "|  GPU   GI   CI        PID   Type   Process name                            GPU Memory |\n",
      "|        ID   ID                                                             Usage      |\n",
      "|=======================================================================================|\n",
      "|  No running processes found                                                           |\n",
      "+---------------------------------------------------------------------------------------+\n",
      "Radical diffusion simulation\n",
      "Usage: ./radicals [OPTIONS]\n",
      "\n",
      "Options:\n",
      "  -h,--help                   Print this help message and exit\n",
      "  --diffCoeff FLOAT           Diffusion coefficient\n",
      "  --radFormRate FLOAT         Radical formation rate\n",
      "  --k1 FLOAT                  Rate of crosslinking\n",
      "  --k2 FLOAT                  Rate of radical oxidation\n",
      "  --doseRate FLOAT            Dose rate\n",
      "  --irrTime INT               Irradiation time\n",
      "  --totalTime INT             Total time\n",
      "  --dimXYZ INT x 3            Dimensions X Y Z of the array\n",
      "  --outputPrefix TEXT         Output file name\n",
      "  -l,--limitedSave            Save only the middle slice for activity\n"
     ]
    }
   ],
   "source": [
    "!nvidia-smi\n",
    "!nvcc  -o radicals -x cu -lnvToolsExt -I ../CLI11/include ../src/solverRadicals.cu\n",
    "!./radicals -h"
   ]
  },
  {
   "cell_type": "code",
   "execution_count": null,
   "id": "8a4cac0c",
   "metadata": {},
   "outputs": [],
   "source": [
    "def run_sim(D, R, k1, k2):\n",
    "    \"\"\"\n",
    "    \"\"\"\n",
    "    print(f\"Processing D={D} R={R} k1={k1} k2={k2}\")\n",
    "    process = subprocess.run(\n",
    "        [\n",
    "            \"./radicals\",\n",
    "            \"--diffCoeff\",\n",
    "            str(D),\n",
    "            \"--radFormRate\",\n",
    "            str(R),\n",
    "            \"--k1\",\n",
    "            str(k1),\n",
    "            \"--k2\",\n",
    "            str(k2)\n",
    "        ],\n",
    "        stdout = subprocess.PIPE,\n",
    "        stderr = subprocess.STDOUT,\n",
    "        universal_newlines = True\n",
    "    )\n",
    "    activity = np.fromfile(\"outputactivity.dat\", dtype=np.float32)\n",
    "    tDim = 20000\n",
    "    xDim = 100\n",
    "    activity = np.reshape(activity,(tDim,xDim))\n",
    "    maximum = []\n",
    "    times = range(10001, 20000)\n",
    "    for time in times:\n",
    "        maximum.append(np.argmax(activity[time, 250, :]))\n",
    "    times = np.array(times)\n",
    "    times = times - times[0]\n",
    "    maximum = np.array(maximum)\n",
    "    maximum = maximum/10\n",
    "    np.save(f'test_D_{D}_R_{R}_k1_{k1}_k2_{k2}'.replace('.','p'), maximum)"
   ]
  },
  {
   "cell_type": "code",
   "execution_count": null,
   "id": "e190e2b5",
   "metadata": {},
   "outputs": [],
   "source": [
    "def plot_data_vs_sim(D, R, k1, k2):\n",
    "    filename = f\"D_{D}_R_{R}_k1_{k1}_k2_{k2}\".replace('.','p')\n",
    "    label=f\"R={R} k1={k1} k2={k2}\"\n",
    "    maximum = np.load(f'test_{filename}.npy')\n",
    "    \n",
    "    times = np.arange(10001, 20000)\n",
    "    times = times - times[0]\n",
    "\n",
    "    # find the saturation point\n",
    "    t_saturation = times[np.argmax(maximum)]\n",
    "\n",
    "    data_t = np.array([1, 5, 11, 18, 25])\n",
    "    data_et = np.ones_like(data_t) * 0.5\n",
    "    data_z = np.array([1.59, 2.09, 2.68, 3.32, 4.09])\n",
    "    data_ez = np.array([0.02, 0.04, 0.07, 0.11, 0.21])\n",
    "\n",
    "    z_index = np.array([1.23, 1.23, 1.24, 1.16, 1.14])\n",
    "    z_index_mean = np.mean(z_index)\n",
    "    z_index_std = np.sqrt((np.std(z_index)) ** 2 + (0.05 * z_index_mean) ** 2)\n",
    "\n",
    "    # Days to a.u.\n",
    "    data_t = data_t * (t_saturation * 0.85 / data_t[-1])\n",
    "\n",
    "    # Calculate chi^2\n",
    "    chi2 = np.sum((data_z - maximum[(np.rint(data_t)).astype(int)])**2/data_ez)\n",
    "    chi2 += (z_index_mean - maximum[0])**2/z_index_std\n",
    "    \n",
    "    fig, ax = plt.subplots(figsize=(10, 8))\n",
    "    ax.plot(times, maximum, label=label)\n",
    "    ax.errorbar(data_t, data_z, xerr=data_et, yerr=data_ez)\n",
    "    ax.hlines(\n",
    "        z_index_mean,\n",
    "        -1000,\n",
    "        10000,\n",
    "        color=\"black\",\n",
    "        linestyles=\"dashed\",\n",
    "        label=\"index boundary\",\n",
    "        linewidth=2,\n",
    "    )\n",
    "    ax.fill_between(\n",
    "        np.linspace(-1000, 10000, 100),\n",
    "        z_index_mean - z_index_std,\n",
    "        z_index_mean + z_index_std,\n",
    "        alpha=0.2,\n",
    "        color=\"black\",\n",
    "    )\n",
    "    ax.text(t_saturation*0.7, 0.3, f\"$\\chi^2 = ${chi2:.4f}\")\n",
    "    ax.set_xlim(-100, t_saturation*1.1)\n",
    "    ax.set_ylim(0,5)\n",
    "    ax.set_xlabel(\"t (a.u.)\")\n",
    "    ax.set_ylabel(\"z (mm)\")\n",
    "    fig.tight_layout()\n",
    "    plt.legend(loc=\"upper left\")\n",
    "    plt.show()"
   ]
  }
 ],
 "metadata": {
  "kernelspec": {
   "display_name": "Python 3",
   "language": "python",
   "name": "python3"
  },
  "language_info": {
   "codemirror_mode": {
    "name": "ipython",
    "version": 3
   },
   "file_extension": ".py",
   "mimetype": "text/x-python",
   "name": "python",
   "nbconvert_exporter": "python",
   "pygments_lexer": "ipython3",
   "version": "3.6.9"
  }
 },
 "nbformat": 4,
 "nbformat_minor": 5
}
