{
 "cells": [
  {
   "cell_type": "markdown",
   "id": "373bb174",
   "metadata": {},
   "source": [
    "# Finite differences simulation of the JAERI model\n",
    "Designed to run on a CUDA-compatible GPU."
   ]
  },
  {
   "cell_type": "code",
   "execution_count": null,
   "id": "a22460f4",
   "metadata": {},
   "outputs": [],
   "source": [
    "import itertools\n",
    "import subprocess\n",
    "import numpy as np\n",
    "import matplotlib.pyplot as plt\n",
    "import mplhep as hep"
   ]
  },
  {
   "cell_type": "code",
   "execution_count": null,
   "id": "72877a24",
   "metadata": {},
   "outputs": [],
   "source": [
    "plt.style.use(hep.style.ROOT)"
   ]
  },
  {
   "cell_type": "markdown",
   "id": "af8e8bbf",
   "metadata": {},
   "source": [
    "## Checking the GPU and compiling the code\n",
    "Printing the GPU details and compiling the code."
   ]
  },
  {
   "cell_type": "code",
   "execution_count": null,
   "id": "5a782232",
   "metadata": {},
   "outputs": [],
   "source": [
    "!nvidia-smi\n",
    "!nvcc  -o radicals -x cu -lnvToolsExt -I ../CLI11/include ../src/solverRadicals.cu"
   ]
  },
  {
   "cell_type": "markdown",
   "id": "fa478f11",
   "metadata": {},
   "source": [
    "Checking the executable."
   ]
  },
  {
   "cell_type": "code",
   "execution_count": null,
   "id": "fe7132b1",
   "metadata": {},
   "outputs": [],
   "source": [
    "!./radicals -h"
   ]
  },
  {
   "cell_type": "markdown",
   "id": "bc146cbc",
   "metadata": {},
   "source": [
    "## Running the simulation"
   ]
  },
  {
   "cell_type": "markdown",
   "id": "8397e897",
   "metadata": {},
   "source": [
    "Adding a function that runs the simulation and saves the results to a file."
   ]
  },
  {
   "cell_type": "code",
   "execution_count": 2,
   "id": "8a4cac0c",
   "metadata": {},
   "outputs": [],
   "source": [
    "def run_sim(D, R, k1, k2):\n",
    "    \"\"\"\n",
    "    Run the simulation with the given parameters and save the maximum of the activity as function of time as a numpy array.\n",
    "\n",
    "    Parameters\n",
    "    ----------\n",
    "    D : float\n",
    "        Diffusion coefficient\n",
    "    R : float\n",
    "        Radical formation rate (includes the dose rate so it's Y*R)\n",
    "    k1 : float\n",
    "        Rate constant for the radical crosslinking reaction\n",
    "    k2 : float\n",
    "        Rate constant for the radical oxidation reaction\n",
    "\n",
    "    Returns\n",
    "    -------\n",
    "    None\n",
    "    \"\"\"\n",
    "    print(f\"Processing D={D} R={R} k1={k1} k2={k2}\")\n",
    "    process = subprocess.run(\n",
    "        [\n",
    "            \"./radicals\",\n",
    "            \"--diffCoeff\",\n",
    "            str(D),\n",
    "            \"--radFormRate\",\n",
    "            str(R),\n",
    "            \"--k1\",\n",
    "            str(k1),\n",
    "            \"--k2\",\n",
    "            str(k2),\n",
    "        ],\n",
    "        stdout=subprocess.PIPE,\n",
    "        stderr=subprocess.STDOUT,\n",
    "        universal_newlines=True,\n",
    "    )\n",
    "    activity = np.fromfile(\"outputactivity.dat\", dtype=np.float32)\n",
    "    tDim = 20000\n",
    "    xDim = 100\n",
    "    activity = np.reshape(activity, (tDim, xDim))\n",
    "    maximum = []\n",
    "    times = range(10001, 20000)\n",
    "    for time in times:\n",
    "        maximum.append(np.argmax(activity[time, 250, :]))\n",
    "    times = np.array(times)\n",
    "    times = times - times[0]\n",
    "    maximum = np.array(maximum)\n",
    "    maximum = maximum / 10\n",
    "    np.save(f\"test_D_{D}_R_{R}_k1_{k1}_k2_{k2}\".replace(\".\", \"p\"), maximum)"
   ]
  },
  {
   "cell_type": "markdown",
   "id": "ea2e617a",
   "metadata": {},
   "source": [
    "Plot the result of the simulation vs the data."
   ]
  },
  {
   "cell_type": "code",
   "execution_count": null,
   "id": "e190e2b5",
   "metadata": {},
   "outputs": [],
   "source": [
    "def plot_data_vs_sim(D, R, k1, k2):\n",
    "    \"\"\"\n",
    "    Plot the simulation results and the experimental data.\n",
    "\n",
    "    Parameters\n",
    "    ----------\n",
    "    D : float\n",
    "        Diffusion coefficient\n",
    "    R : float\n",
    "        Radical formation rate (includes the dose rate so it's Y*R)\n",
    "    k1 : float\n",
    "        Rate constant for the radical crosslinking reaction\n",
    "    k2 : float\n",
    "        Rate constant for the radical oxidation reaction\n",
    "\n",
    "    Returns\n",
    "    -------\n",
    "    None\n",
    "    \"\"\"\n",
    "    filename = f\"D_{D}_R_{R}_k1_{k1}_k2_{k2}\".replace(\".\", \"p\")\n",
    "    label = f\"R={R} k1={k1} k2={k2}\"\n",
    "    maximum = np.load(f\"test_{filename}.npy\")\n",
    "\n",
    "    times = np.arange(10001, 20000)\n",
    "    times = times - times[0]\n",
    "\n",
    "    # find the saturation point\n",
    "    t_saturation = times[np.argmax(maximum)]\n",
    "\n",
    "    data_t = np.array([1, 5, 11, 18, 25])\n",
    "    data_et = np.ones_like(data_t) * 0.5\n",
    "    data_z = np.array([1.59, 2.09, 2.68, 3.32, 4.09])\n",
    "    data_ez = np.array([0.02, 0.04, 0.07, 0.11, 0.21])\n",
    "\n",
    "    z_index = np.array([1.23, 1.23, 1.24, 1.16, 1.14])\n",
    "    z_index_mean = np.mean(z_index)\n",
    "    z_index_std = np.sqrt((np.std(z_index)) ** 2 + (0.05 * z_index_mean) ** 2)\n",
    "\n",
    "    # Days to a.u.\n",
    "    data_t = data_t * (t_saturation * 0.85 / data_t[-1])\n",
    "\n",
    "    # Calculate chi^2\n",
    "    chi2 = np.sum((data_z - maximum[(np.rint(data_t)).astype(int)]) ** 2 / data_ez)\n",
    "    chi2 += (z_index_mean - maximum[0]) ** 2 / z_index_std\n",
    "\n",
    "    fig, ax = plt.subplots(figsize=(10, 8))\n",
    "    ax.plot(times, maximum, label=label)\n",
    "    ax.errorbar(data_t, data_z, xerr=data_et, yerr=data_ez)\n",
    "    ax.hlines(\n",
    "        z_index_mean,\n",
    "        -1000,\n",
    "        10000,\n",
    "        color=\"black\",\n",
    "        linestyles=\"dashed\",\n",
    "        label=\"index boundary\",\n",
    "        linewidth=2,\n",
    "    )\n",
    "    ax.fill_between(\n",
    "        np.linspace(-1000, 10000, 100),\n",
    "        z_index_mean - z_index_std,\n",
    "        z_index_mean + z_index_std,\n",
    "        alpha=0.2,\n",
    "        color=\"black\",\n",
    "    )\n",
    "    ax.text(t_saturation * 0.7, 0.3, f\"$\\chi^2 = ${chi2:.4f}\")\n",
    "    ax.set_xlim(-100, t_saturation * 1.1)\n",
    "    ax.set_ylim(0, 5)\n",
    "    ax.set_xlabel(\"t (a.u.)\")\n",
    "    ax.set_ylabel(\"z (mm)\")\n",
    "    fig.tight_layout()\n",
    "    plt.legend(loc=\"upper left\")\n",
    "    plt.show()"
   ]
  },
  {
   "cell_type": "markdown",
   "id": "60ececb1",
   "metadata": {},
   "source": [
    "Now run the code."
   ]
  },
  {
   "cell_type": "code",
   "execution_count": null,
   "id": "5f1e90e4",
   "metadata": {},
   "outputs": [],
   "source": [
    "# These parameters will make the simulation match the experimental data\n",
    "D = 0.1\n",
    "R = 0.0006\n",
    "k1 = 0.02\n",
    "k2 = 0.2\n",
    "\n",
    "run_sim(D, R, k1, k2)\n",
    "plot_data_vs_sim(D, R, k1, k2)"
   ]
  }
 ],
 "metadata": {
  "kernelspec": {
   "display_name": "Python 3",
   "language": "python",
   "name": "python3"
  },
  "language_info": {
   "codemirror_mode": {
    "name": "ipython",
    "version": 3
   },
   "file_extension": ".py",
   "mimetype": "text/x-python",
   "name": "python",
   "nbconvert_exporter": "python",
   "pygments_lexer": "ipython3",
   "version": "3.11.0"
  }
 },
 "nbformat": 4,
 "nbformat_minor": 5
}
