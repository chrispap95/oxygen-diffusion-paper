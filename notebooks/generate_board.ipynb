{
 "cells": [
  {
   "cell_type": "code",
   "execution_count": 2,
   "metadata": {},
   "outputs": [],
   "source": [
    "from PIL import Image\n",
    "import rawpy"
   ]
  },
  {
   "cell_type": "code",
   "execution_count": 12,
   "metadata": {},
   "outputs": [],
   "source": [
    "with Image.open(\"/Users/chrispap/Downloads/Photos V3/Processed/EJ200PS-L10R.tif\") as im:\n",
    "    pass"
   ]
  },
  {
   "cell_type": "code",
   "execution_count": 14,
   "metadata": {},
   "outputs": [],
   "source": [
    "with rawpy.imread(\"/Users/chrispap/Downloads/Photos V3/RAW/EJ200PS-L10R.NEF\") as raw:\n",
    "    pass"
   ]
  },
  {
   "cell_type": "code",
   "execution_count": 17,
   "metadata": {},
   "outputs": [
    {
     "ename": "error",
     "evalue": "OpenCV(4.7.0) :-1: error: (-5:Bad argument) in function 'Dictionary'\n> Overload resolution failed:\n>  - Dictionary() missing required argument '_markerSize' (pos 2)\n",
     "output_type": "error",
     "traceback": [
      "\u001b[0;31m---------------------------------------------------------------------------\u001b[0m",
      "\u001b[0;31merror\u001b[0m                                     Traceback (most recent call last)",
      "Cell \u001b[0;32mIn[17], line 3\u001b[0m\n\u001b[1;32m      1\u001b[0m \u001b[39mimport\u001b[39;00m \u001b[39mcv2\u001b[39;00m\n\u001b[1;32m      2\u001b[0m \u001b[39mimport\u001b[39;00m \u001b[39mcv2\u001b[39;00m\u001b[39m.\u001b[39;00m\u001b[39maruco\u001b[39;00m \u001b[39mas\u001b[39;00m \u001b[39maruco\u001b[39;00m\n\u001b[0;32m----> 3\u001b[0m aruco_dict \u001b[39m=\u001b[39m aruco\u001b[39m.\u001b[39;49mDictionary(aruco\u001b[39m.\u001b[39;49mDICT_6X6_1000)\n\u001b[1;32m      4\u001b[0m \u001b[39m# Dimensions in cm\u001b[39;00m\n\u001b[1;32m      5\u001b[0m marker_length \u001b[39m=\u001b[39m \u001b[39m2.25\u001b[39m\n",
      "\u001b[0;31merror\u001b[0m: OpenCV(4.7.0) :-1: error: (-5:Bad argument) in function 'Dictionary'\n> Overload resolution failed:\n>  - Dictionary() missing required argument '_markerSize' (pos 2)\n"
     ]
    }
   ],
   "source": [
    "import cv2\n",
    "import cv2.aruco as aruco\n",
    "\n",
    "aruco_dict = aruco.Dictionary(aruco.DICT_6X6_1000)\n",
    "# Dimensions in cm\n",
    "marker_length = 2.25\n",
    "marker_separation = 0.3\n",
    "arucoParams = aruco.DetectorParameters_create()\n",
    "board = aruco.GridBoard_create(5, 7, marker_length, marker_separation, aruco_dict)"
   ]
  },
  {
   "cell_type": "code",
   "execution_count": 63,
   "metadata": {},
   "outputs": [
    {
     "data": {
      "text/plain": [
       "True"
      ]
     },
     "execution_count": 63,
     "metadata": {},
     "output_type": "execute_result"
    }
   ],
   "source": [
    "# Best settings for US Letter paper\n",
    "aspect_ratio = 9 / 7\n",
    "n_vertical = 14\n",
    "vertical_size = 2000\n",
    "aruco_dict = aruco.getPredefinedDictionary(aruco.DICT_6X6_1000)\n",
    "charuco_board = aruco.CharucoBoard(\n",
    "    (int(n_vertical * aspect_ratio), n_vertical), 2, 1, aruco_dict\n",
    ")\n",
    "img = charuco_board.generateImage((int(vertical_size * aspect_ratio), vertical_size))\n",
    "cv2.imwrite(\"/Users/chrispap/charuco.png\", img)"
   ]
  },
  {
   "cell_type": "code",
   "execution_count": null,
   "metadata": {},
   "outputs": [],
   "source": []
  }
 ],
 "metadata": {
  "kernelspec": {
   "display_name": "Python 3",
   "language": "python",
   "name": "python3"
  },
  "language_info": {
   "codemirror_mode": {
    "name": "ipython",
    "version": 3
   },
   "file_extension": ".py",
   "mimetype": "text/x-python",
   "name": "python",
   "nbconvert_exporter": "python",
   "pygments_lexer": "ipython3",
   "version": "3.11.0"
  },
  "orig_nbformat": 4
 },
 "nbformat": 4,
 "nbformat_minor": 2
}
