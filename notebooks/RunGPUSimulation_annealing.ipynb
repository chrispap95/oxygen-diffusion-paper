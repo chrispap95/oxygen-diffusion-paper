{
 "cells": [
  {
   "cell_type": "markdown",
   "id": "373bb174",
   "metadata": {},
   "source": [
    "# Finite differences simulation of the JAERI model\n",
    "Designed to run on a CUDA-compatible GPU."
   ]
  },
  {
   "cell_type": "code",
   "execution_count": 1,
   "id": "a22460f4",
   "metadata": {},
   "outputs": [],
   "source": [
    "import itertools\n",
    "import os\n",
    "import subprocess\n",
    "import sys\n",
    "from pathlib import Path\n",
    "import numpy as np\n",
    "import matplotlib.pyplot as plt\n",
    "import mplhep as hep\n",
    "\n",
    "parent_dir = Path(os.path.abspath(\"RunGPUSimulation_annealing.ipynb\")).parent.parent\n",
    "sys.path.append(str(parent_dir))\n",
    "from src.annealing_depth import plot_data_vs_sim"
   ]
  },
  {
   "cell_type": "code",
   "execution_count": 2,
   "id": "72877a24",
   "metadata": {},
   "outputs": [],
   "source": [
    "plt.style.use(hep.style.ROOT)"
   ]
  },
  {
   "cell_type": "markdown",
   "id": "af8e8bbf",
   "metadata": {},
   "source": [
    "## Checking the GPU and compiling the code\n",
    "Printing the GPU details and compiling the code."
   ]
  },
  {
   "cell_type": "code",
   "execution_count": 3,
   "id": "5a782232",
   "metadata": {},
   "outputs": [
    {
     "name": "stdout",
     "output_type": "stream",
     "text": [
      "Mon Jul 17 09:15:52 2023       \n",
      "+---------------------------------------------------------------------------------------+\n",
      "| NVIDIA-SMI 530.30.02              Driver Version: 530.30.02    CUDA Version: 12.1     |\n",
      "|-----------------------------------------+----------------------+----------------------+\n",
      "| GPU  Name                  Persistence-M| Bus-Id        Disp.A | Volatile Uncorr. ECC |\n",
      "| Fan  Temp  Perf            Pwr:Usage/Cap|         Memory-Usage | GPU-Util  Compute M. |\n",
      "|                                         |                      |               MIG M. |\n",
      "|=========================================+======================+======================|\n",
      "|   0  Tesla P100-PCIE-12GB            Off| 00000000:65:00.0 Off |                    0 |\n",
      "| N/A   45C    P0               29W / 250W|      0MiB / 12288MiB |      1%      Default |\n",
      "|                                         |                      |                  N/A |\n",
      "+-----------------------------------------+----------------------+----------------------+\n",
      "                                                                                         \n",
      "+---------------------------------------------------------------------------------------+\n",
      "| Processes:                                                                            |\n",
      "|  GPU   GI   CI        PID   Type   Process name                            GPU Memory |\n",
      "|        ID   ID                                                             Usage      |\n",
      "|=======================================================================================|\n",
      "|  No running processes found                                                           |\n",
      "+---------------------------------------------------------------------------------------+\n"
     ]
    }
   ],
   "source": [
    "!nvidia-smi\n",
    "!nvcc  -o radicals -x cu -lnvToolsExt -I ../CLI11/include ../src/solverRadicals.cu"
   ]
  },
  {
   "cell_type": "markdown",
   "id": "fa478f11",
   "metadata": {},
   "source": [
    "Checking the executable."
   ]
  },
  {
   "cell_type": "code",
   "execution_count": 4,
   "id": "fe7132b1",
   "metadata": {},
   "outputs": [
    {
     "name": "stdout",
     "output_type": "stream",
     "text": [
      "Radical diffusion simulation\r\n",
      "Usage: ./radicals [OPTIONS]\r\n",
      "\r\n",
      "Options:\r\n",
      "  -h,--help                   Print this help message and exit\r\n",
      "  --diffCoeff FLOAT           Diffusion coefficient\r\n",
      "  --radFormRate FLOAT         Radical formation rate\r\n",
      "  --k1 FLOAT                  Rate of crosslinking\r\n",
      "  --k2 FLOAT                  Rate of radical oxidation\r\n",
      "  --doseRate FLOAT            Dose rate\r\n",
      "  --irrTime INT               Irradiation time\r\n",
      "  --totalTime INT             Total time\r\n",
      "  --dimXYZ INT x 3            Dimensions X Y Z of the array\r\n",
      "  --outputPrefix TEXT         Output file name\r\n",
      "  -l,--limitedSave            Save only the middle slice for activity\r\n"
     ]
    }
   ],
   "source": [
    "!./radicals -h"
   ]
  },
  {
   "cell_type": "markdown",
   "id": "bc146cbc",
   "metadata": {},
   "source": [
    "## Running the simulation"
   ]
  },
  {
   "cell_type": "markdown",
   "id": "8397e897",
   "metadata": {},
   "source": [
    "Adding a function that runs the simulation and saves the results to a file."
   ]
  },
  {
   "cell_type": "code",
   "execution_count": 5,
   "id": "8a4cac0c",
   "metadata": {},
   "outputs": [],
   "source": [
    "def run_sim(D, R, k1, k2):\n",
    "    \"\"\"\n",
    "    Run the simulation with the given parameters and save the maximum of\n",
    "    the activity as function of time as a numpy array.\n",
    "\n",
    "    Parameters\n",
    "    ----------\n",
    "    D : float\n",
    "        Diffusion coefficient\n",
    "    R : float\n",
    "        Radical formation rate (includes the dose rate so it's Y*R)\n",
    "    k1 : float\n",
    "        Rate constant for the radical crosslinking reaction\n",
    "    k2 : float\n",
    "        Rate constant for the radical oxidation reaction\n",
    "\n",
    "    Returns\n",
    "    -------\n",
    "    None\n",
    "    \"\"\"\n",
    "    print(f\"Processing D={D} R={R} k1={k1} k2={k2}\")\n",
    "    subprocess.run(\n",
    "        [\n",
    "            \"./radicals\",\n",
    "            \"--diffCoeff\",\n",
    "            str(D),\n",
    "            \"--radFormRate\",\n",
    "            str(R),\n",
    "            \"--k1\",\n",
    "            str(k1),\n",
    "            \"--k2\",\n",
    "            str(k2),\n",
    "            \"-l\",\n",
    "        ],\n",
    "    )\n",
    "    activity = np.fromfile(\"outputactivity.dat\", dtype=np.float32)\n",
    "    tDim = 20000\n",
    "    xDim = 100\n",
    "    activity = np.reshape(activity, (tDim, xDim))\n",
    "    maximum = []\n",
    "    times = range(10001, 20000)\n",
    "    for time in times:\n",
    "        maximum.append(np.argmax(activity[time, :]))\n",
    "    times = np.array(times)\n",
    "    times = times - times[0]\n",
    "    maximum = np.array(maximum)\n",
    "    maximum = maximum / 10\n",
    "    label = f\"D_{D}_R_{R}_k1_{k1}_k2_{k2}\".replace(\".\", \"p\")\n",
    "    np.save(f\"../data/sim_{label}\", maximum)"
   ]
  },
  {
   "cell_type": "markdown",
   "id": "60ececb1",
   "metadata": {},
   "source": [
    "Now run the code."
   ]
  },
  {
   "cell_type": "code",
   "execution_count": 6,
   "id": "5f1e90e4",
   "metadata": {},
   "outputs": [
    {
     "name": "stdout",
     "output_type": "stream",
     "text": [
      "Processing D=0.1 R=0.0006 k1=0.02 k2=0.2\n"
     ]
    },
    {
     "name": "stderr",
     "output_type": "stream",
     "text": [
      "'texgyreheros-regular.otf' can not be subsetted into a Type 3 font. The entire font will be embedded in the output.\n"
     ]
    },
    {
     "data": {
      "image/png": "[encoded data removed]",
      "text/plain": [
       "<Figure size 720x576 with 1 Axes>"
      ]
     },
     "metadata": {
      "needs_background": "light"
     },
     "output_type": "display_data"
    }
   ],
   "source": [
    "# These parameters will make the simulation match the experimental data\n",
    "D = 0.1\n",
    "R = 0.0006\n",
    "k1 = 0.02\n",
    "k2 = 0.2\n",
    "\n",
    "run_sim(D, R, k1, k2)\n",
    "plot_data_vs_sim(D, R, k1, k2)"
   ]
  },
  {
   "cell_type": "markdown",
   "id": "84dca591",
   "metadata": {},
   "source": [
    "## Run a parameter scan\n",
    "The parameter space can be explored by running the simulation for different values."
   ]
  },
  {
   "cell_type": "code",
   "execution_count": null,
   "id": "6d89cf3f",
   "metadata": {},
   "outputs": [],
   "source": [
    "D = 0.1\n",
    "R_arr = [0.0003, 0.00045, 0.0006]\n",
    "k1_arr = [0.01, 0.02, 0.03]\n",
    "k2_arr = [0.05, 0.1, 0.2]\n",
    "for R, k1, k2 in itertools.product(R_arr, k1_arr, k2_arr):\n",
    "    run_sim(D, R, k1, k2)"
   ]
  }
 ],
 "metadata": {
  "kernelspec": {
   "display_name": "Python 3",
   "language": "python",
   "name": "python3"
  },
  "language_info": {
   "codemirror_mode": {
    "name": "ipython",
    "version": 3
   },
   "file_extension": ".py",
   "mimetype": "text/x-python",
   "name": "python",
   "nbconvert_exporter": "python",
   "pygments_lexer": "ipython3",
   "version": "3.6.9"
  }
 },
 "nbformat": 4,
 "nbformat_minor": 5
}
